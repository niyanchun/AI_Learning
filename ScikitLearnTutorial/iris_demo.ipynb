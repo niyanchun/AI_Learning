{
 "cells": [
  {
   "cell_type": "code",
   "execution_count": null,
   "metadata": {},
   "outputs": [],
   "source": [
    "from sklearn.datasets import load_iris\n",
    "\n",
    " # 加载数据\n",
    "iris = load_iris() \n",
    "\n",
    "# 查看数据的所有属性\n",
    "print(iris.keys())\n",
    "\n",
    "# 查看样本数据的特征情况\n",
    "print(\"\\n特征情况：\")\n",
    "print(\"data shape:\", iris.data.shape)\n",
    "print(\"feature names:\",iris.feature_names)\n",
    "print(\"first row of data:\", iris.data[0])   # 只打印一条\n",
    "\n",
    "# 查看目标变量情况\n",
    "print(\"\\n目标变量情况：\")\n",
    "print(\"target shape:\", iris.target.shape)\n",
    "print(\"target names:\",iris.target_names)\n",
    "print(\"target:\", iris.target)"
   ]
  },
  {
   "cell_type": "code",
   "execution_count": null,
   "metadata": {},
   "outputs": [],
   "source": [
    "# 构建模型 + 预测\n",
    "from sklearn import svm\n",
    "from sklearn.datasets import load_iris\n",
    " # 加载数据\n",
    "iris = load_iris() \n",
    "# 建模1\n",
    "clf = svm.SVC()\n",
    "X, y = iris.data, iris.target\n",
    "clf.fit(X, y)\n",
    "# 预测1\n",
    "print(clf.predict(iris.data[:3]))\n",
    "# 保存模型到对象\n",
    "import pickle\n",
    "s = pickle.dumps(clf)\n",
    "clf2 = pickle.loads(s)\n",
    "print(clf2.predict(iris.data[:3]))\n",
    "# 建模2\n",
    "clf.fit(X, iris.target_names[iris.target])\n",
    "# 预测2\n",
    "print(clf.predict(iris.data[:3]))\n",
    "# 保存模型到文件\n",
    "from sklearn.externals import joblib\n",
    "joblib.dump(clf, 'fliename.pkl')"
   ]
  },
  {
   "cell_type": "code",
   "execution_count": null,
   "metadata": {
    "collapsed": true
   },
   "outputs": [],
   "source": [
    "from sklearn.externals import joblib\n",
    "clf3 = joblib.load('fliename.pkl')\n",
    "print(clf3.predict([[5,3,1,0.4]]))"
   ]
  },
  {
   "cell_type": "code",
   "execution_count": null,
   "metadata": {},
   "outputs": [],
   "source": [
    "pwd"
   ]
  },
  {
   "cell_type": "code",
   "execution_count": null,
   "metadata": {
    "collapsed": true
   },
   "outputs": [],
   "source": []
  }
 ],
 "metadata": {
  "kernelspec": {
   "display_name": "Python 3",
   "language": "python",
   "name": "python3"
  },
  "language_info": {
   "codemirror_mode": {
    "name": "ipython",
    "version": 3
   },
   "file_extension": ".py",
   "mimetype": "text/x-python",
   "name": "python",
   "nbconvert_exporter": "python",
   "pygments_lexer": "ipython3",
   "version": "3.6.3"
  }
 },
 "nbformat": 4,
 "nbformat_minor": 2
}
