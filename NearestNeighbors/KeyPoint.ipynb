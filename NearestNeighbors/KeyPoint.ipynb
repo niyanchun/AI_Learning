{
 "cells": [
  {
   "cell_type": "code",
   "execution_count": null,
   "metadata": {},
   "outputs": [
    {
     "name": "stdout",
     "output_type": "stream",
     "text": [
      "[[0 1 2]\n",
      " [0 1 2]]\n",
      "[[3 3 3]\n",
      " [4 4 4]]\n"
     ]
    }
   ],
   "source": [
    "# kp1: np.meshgrid\n",
    "# meshgrid 用于从x和y产生网格，生成的矩阵A和B大小相同，size为size(y)*size(x)\n",
    "\n",
    "import numpy as np\n",
    "\n",
    "x = np.array([0, 1, 2])\n",
    "y = np.array([3, 4])\n",
    "\n",
    "A, B = np.meshgrid(x, y)\n",
    "\n",
    "print(A)\n",
    "print(B)"
   ]
  },
  {
   "cell_type": "code",
   "execution_count": 3,
   "metadata": {},
   "outputs": [
    {
     "name": "stdout",
     "output_type": "stream",
     "text": [
      "[[1 4]\n",
      " [2 5]\n",
      " [3 6]]\n",
      "[1 2 3 4 5 6]\n",
      "[[1 0 4]\n",
      " [2 0 5]\n",
      " [3 0 6]]\n"
     ]
    }
   ],
   "source": [
    "# kp2: \n",
    "# np.c_：按column来组合array\n",
    "# np.r_： 按row来组合array\n",
    "\n",
    "import numpy as np\n",
    "\n",
    "a = np.array([1,2,3])\n",
    "b = np.array([4,5,6])\n",
    "\n",
    "print(np.c_[a, b])\n",
    "print(np.r_[a,b])\n",
    "print(np.c_[a, [0, 0, 0], b])"
   ]
  },
  {
   "cell_type": "code",
   "execution_count": null,
   "metadata": {
    "collapsed": true
   },
   "outputs": [],
   "source": []
  }
 ],
 "metadata": {
  "kernelspec": {
   "display_name": "Python 3",
   "language": "python",
   "name": "python3"
  },
  "language_info": {
   "codemirror_mode": {
    "name": "ipython",
    "version": 3
   },
   "file_extension": ".py",
   "mimetype": "text/x-python",
   "name": "python",
   "nbconvert_exporter": "python",
   "pygments_lexer": "ipython3",
   "version": "3.6.3"
  }
 },
 "nbformat": 4,
 "nbformat_minor": 2
}
